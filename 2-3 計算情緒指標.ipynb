{
 "cells": [
  {
   "cell_type": "markdown",
   "metadata": {},
   "source": [
    "# 計算情緒指標"
   ]
  },
  {
   "cell_type": "markdown",
   "metadata": {},
   "source": [
    "## 相關套件\n",
    "\n",
    "* [jieba](https://github.com/fxsjy/jieba)\n",
    "* [snownlp](https://github.com/isnowfy/snownlp)\n",
    "\n",
    "## 相關連結\n",
    "\n",
    "* [鉅亨台股新聞](https://news.cnyes.com/news/cat/tw_stock_news)\n",
    "* [財經新報](https://finance.technews.tw/)\n",
    "* [自由時報財經新聞](https://ec.ltn.com.tw/)"
   ]
  },
  {
   "cell_type": "markdown",
   "metadata": {},
   "source": [
    "---"
   ]
  },
  {
   "cell_type": "code",
   "execution_count": 1,
   "metadata": {},
   "outputs": [],
   "source": [
    "import requests\n",
    "from bs4 import BeautifulSoup"
   ]
  },
  {
   "cell_type": "code",
   "execution_count": 2,
   "metadata": {},
   "outputs": [],
   "source": [
    "url = \"https://news.cnyes.com/news/cat/tw_stock_news\""
   ]
  },
  {
   "cell_type": "code",
   "execution_count": 3,
   "metadata": {},
   "outputs": [],
   "source": [
    "r = requests.get(url)\n",
    "soup = BeautifulSoup(r.text, 'lxml')"
   ]
  },
  {
   "cell_type": "code",
   "execution_count": 4,
   "metadata": {},
   "outputs": [],
   "source": [
    "news_list = soup.select('div._2bFl.theme-list h3')"
   ]
  },
  {
   "cell_type": "code",
   "execution_count": 5,
   "metadata": {},
   "outputs": [
    {
     "name": "stdout",
     "output_type": "stream",
     "text": [
      "iPhone熱銷助攻 文曄10月營收364.4億元 再寫歷史新高\n",
      "鈺太Q3、前3季獲利創新高 前3季每股賺2.98元 全年可望上看4元\n",
      "5G測試需求暢旺 京元電Q3純益、EPS雙創高 前3季每股賺1.66元\n",
      "台灣去年共40名億萬富豪 平均每位坐擁21億美元資產\n",
      "敬鵬汽車板接單回溫 10月營收15.42億元月增7.48%\n",
      "手遊動能強 傳奇Q3純益季增1.86倍 前3季每股賺3.34元\n",
      "龍巖大賣彰銀股票 官股進場接備戰明年改選\n",
      "緯軟前3季純益3.39億元超越去年全年 EPS 5.11元\n",
      "台股週線連4紅 市值首破35兆元\n",
      "大成攜手日本昭和產業擴大投資 擬再投資20億元\n",
      "〈台灣大法說〉初期5G基地台需逾4000座 估建置成本上看百億元\n",
      "超商雙雄10月營收亮麗 統一超創第三高、全家創次高\n",
      "創見Q4營運將優於Q3 明年也會比今年好\n",
      "〈ITF旅展〉餐券、住宿券超搶手 三大飯店衝出千萬業績\n",
      "樺漢10月營收月減15% 前10月創同期新高年增逾2成\n",
      "CPU再傳缺貨 華碩、宏碁10月營收雙雙下滑月減逾2成\n",
      "AOI設備廠10月營收遇逆風 晶彩科不及千萬元 創42個月新低\n",
      "〈ITF旅展〉限定行程熱銷 雄獅接獲企業包團、家族旅遊大單\n",
      "〈致新法說〉Q4淡季不淡 全年獲利可望大躍進\n",
      "威剛10月營收月增近1成 Q4可望持平Q3\n",
      "台達電10月營收修正 前10月仍創同期高年增15.2%\n",
      "〈台灣大法說〉iPhone 11銷售旺 申辦量年增逾3成\n",
      "客戶拉貨觀望 環球晶10月營收44.21億元 創近21個月低點\n",
      "龍巖決議全數處分彰銀持股 貢獻每股純益8.33元\n",
      "長榮航太與長異擴大合作 持股增至49%\n",
      "〈進出口統計〉台商回流效應 我對美全年出口值續增篤定超越去年\n",
      "中磊Q3純益季增6成 前3季每股賺2.78元\n",
      "華通Q3純益逾14億元創新高 前3季每股賺2元\n",
      "緯創、仁寶10月營收雙創近1年新高 Q4看好聖誕拉貨潮\n",
      "美中傳將逐步撤關稅 經長：下周衝7000億元\n"
     ]
    }
   ],
   "source": [
    "for news in news_list:\n",
    "    print(news.text)"
   ]
  },
  {
   "cell_type": "markdown",
   "metadata": {},
   "source": [
    "---"
   ]
  },
  {
   "cell_type": "markdown",
   "metadata": {},
   "source": [
    "## 情感分析"
   ]
  },
  {
   "cell_type": "code",
   "execution_count": 7,
   "metadata": {},
   "outputs": [],
   "source": [
    "from snownlp import SnowNLP"
   ]
  },
  {
   "cell_type": "code",
   "execution_count": 8,
   "metadata": {},
   "outputs": [
    {
     "name": "stdout",
     "output_type": "stream",
     "text": [
      "iPhone熱銷助攻 文曄10月營收364.4億元 再寫歷史新高 ==> 0.9020316905029114\n",
      "鈺太Q3、前3季獲利創新高 前3季每股賺2.98元 全年可望上看4元 ==> 0.9906594429433194\n",
      "5G測試需求暢旺 京元電Q3純益、EPS雙創高 前3季每股賺1.66元 ==> 0.35378176515706516\n",
      "台灣去年共40名億萬富豪 平均每位坐擁21億美元資產 ==> 0.45902198281309803\n",
      "敬鵬汽車板接單回溫 10月營收15.42億元月增7.48% ==> 0.9993108974075613\n",
      "手遊動能強 傳奇Q3純益季增1.86倍 前3季每股賺3.34元 ==> 0.9989041466493019\n",
      "龍巖大賣彰銀股票 官股進場接備戰明年改選 ==> 0.10203048550996119\n",
      "緯軟前3季純益3.39億元超越去年全年 EPS 5.11元 ==> 0.8763169330469076\n",
      "台股週線連4紅 市值首破35兆元 ==> 0.43468843807799096\n",
      "大成攜手日本昭和產業擴大投資 擬再投資20億元 ==> 0.02687967297253646\n",
      "〈台灣大法說〉初期5G基地台需逾4000座 估建置成本上看百億元 ==> 0.2054021802988375\n",
      "超商雙雄10月營收亮麗 統一超創第三高、全家創次高 ==> 0.9480380072228618\n",
      "創見Q4營運將優於Q3 明年也會比今年好 ==> 0.9915918790863167\n",
      "〈ITF旅展〉餐券、住宿券超搶手 三大飯店衝出千萬業績 ==> 0.9143292010876548\n",
      "樺漢10月營收月減15% 前10月創同期新高年增逾2成 ==> 0.9793532306984288\n",
      "CPU再傳缺貨 華碩、宏碁10月營收雙雙下滑月減逾2成 ==> 0.06404385081869768\n",
      "AOI設備廠10月營收遇逆風 晶彩科不及千萬元 創42個月新低 ==> 0.6950376483233801\n",
      "〈ITF旅展〉限定行程熱銷 雄獅接獲企業包團、家族旅遊大單 ==> 0.870641380345251\n",
      "〈致新法說〉Q4淡季不淡 全年獲利可望大躍進 ==> 0.1531306793304028\n",
      "威剛10月營收月增近1成 Q4可望持平Q3 ==> 0.9990407872855116\n",
      "台達電10月營收修正 前10月仍創同期高年增15.2% ==> 0.996858324436442\n",
      "〈台灣大法說〉iPhone 11銷售旺 申辦量年增逾3成 ==> 0.7103725846322655\n",
      "客戶拉貨觀望 環球晶10月營收44.21億元 創近21個月低點 ==> 0.9841106954965144\n",
      "龍巖決議全數處分彰銀持股 貢獻每股純益8.33元 ==> 0.45681695719518933\n",
      "長榮航太與長異擴大合作 持股增至49% ==> 0.9885693298293114\n",
      "〈進出口統計〉台商回流效應 我對美全年出口值續增篤定超越去年 ==> 0.684317484652742\n",
      "中磊Q3純益季增6成 前3季每股賺2.78元 ==> 0.9559111228285638\n",
      "華通Q3純益逾14億元創新高 前3季每股賺2元 ==> 0.5420839316453093\n",
      "緯創、仁寶10月營收雙創近1年新高 Q4看好聖誕拉貨潮 ==> 0.9606098700175459\n",
      "美中傳將逐步撤關稅 經長：下周衝7000億元 ==> 0.6401979300545255\n"
     ]
    }
   ],
   "source": [
    "for news in news_list:\n",
    "    s = SnowNLP(news.text)\n",
    "    print(news.text, '==>', s.sentiments)"
   ]
  },
  {
   "cell_type": "markdown",
   "metadata": {},
   "source": [
    "---"
   ]
  },
  {
   "cell_type": "markdown",
   "metadata": {},
   "source": [
    "## 重新訓練模型"
   ]
  },
  {
   "cell_type": "code",
   "execution_count": 16,
   "metadata": {},
   "outputs": [],
   "source": [
    "# model 的位置\n",
    "model_path = os.path.join(os.path.dirname(snownlp.__file__),'sentiment\\\\sentiment.marshal')"
   ]
  },
  {
   "cell_type": "code",
   "execution_count": 17,
   "metadata": {},
   "outputs": [
    {
     "data": {
      "text/plain": [
       "'C:\\\\Users\\\\victor\\\\Anaconda3\\\\lib\\\\site-packages\\\\snownlp\\\\sentiment\\\\sentiment.marshal'"
      ]
     },
     "execution_count": 17,
     "metadata": {},
     "output_type": "execute_result"
    }
   ],
   "source": [
    "model_path"
   ]
  },
  {
   "cell_type": "code",
   "execution_count": 21,
   "metadata": {},
   "outputs": [],
   "source": [
    "from snownlp import sentiment\n",
    "sentiment.train('down.txt', 'up.txt')\n",
    "sentiment.save(model_path)"
   ]
  },
  {
   "cell_type": "markdown",
   "metadata": {},
   "source": [
    "### 用新的模型計算情感指標"
   ]
  },
  {
   "cell_type": "code",
   "execution_count": 22,
   "metadata": {},
   "outputs": [
    {
     "name": "stdout",
     "output_type": "stream",
     "text": [
      "雙子星得標公司 股權全數質押 ==> 0.2879448937223127\n",
      "陳美伶：培養新創螞蟻雄兵 不能只看財報 ==> 0.19324670430930468\n",
      "勞動部今公告》月薪逾15萬白領 適用責任制 ==> 0.6899808335913706\n",
      "4月失業率 降至3.67％ ==> 0.9704061094654016\n",
      "外資台股提款千億落跑 台幣貶破31.5元大關 ==> 0.004993509295298404\n",
      "功率半導體市況 明顯比去年冷 ==> 0.472581680695638\n",
      "界霖擴產回流台灣 今年底挹注營運 ==> 0.71556588906314\n",
      "沒有郭董 鴻海董事共持股不到0.1% ==> 0.3301248560789304\n",
      "國際現場》人民幣面臨「保7」關卡 ==> 0.472581680695638\n",
      "財經觀測站》華為只是過場角色 ==> 0.15574022583414493\n",
      "美中貿易戰若加劇 法人：別碰蘋果供應鏈 ==> 0.5813614591157932\n",
      "國巨集團2併購案 爆內線交易 ==> 0.16605328147985599\n",
      "不怕貿易戰 佳世達集團桃園基地還可接轉單 ==> 0.7996903921274503\n",
      "泰昇去年越南買地 現在漲6倍 ==> 0.9957403273129728\n",
      "全家鮮食小確幸 效期前7小時打7折 ==> 0.16994825067214003\n",
      "台商回流 永大衝刺台灣貨梯市場 ==> 0.8368014652700775\n",
      "金管會要修法導正 高儲蓄型保單掰了！ ==> 0.9819604360436193\n",
      "下半年金價 可望好轉 ==> 0.951631131116353\n",
      "營運超預期 華銀兩年加薪近10% ==> 0.6888258618594505\n",
      "衡陽路第二貴透天店 加價15%標售 ==> 0.7088790273486417\n"
     ]
    }
   ],
   "source": [
    "for news in news_list:\n",
    "    s = SnowNLP(news.text)\n",
    "    print(news.text, '==>', s.sentiments)"
   ]
  }
 ],
 "metadata": {
  "kernelspec": {
   "display_name": "Python 3",
   "language": "python",
   "name": "python3"
  },
  "language_info": {
   "codemirror_mode": {
    "name": "ipython",
    "version": 3
   },
   "file_extension": ".py",
   "mimetype": "text/x-python",
   "name": "python",
   "nbconvert_exporter": "python",
   "pygments_lexer": "ipython3",
   "version": "3.7.1"
  }
 },
 "nbformat": 4,
 "nbformat_minor": 2
}
