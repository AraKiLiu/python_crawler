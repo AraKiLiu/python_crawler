{
 "cells": [
  {
   "cell_type": "markdown",
   "metadata": {},
   "source": [
    "## 【練習】\n",
    "\n",
    "請用 requests + BeautifulSoup 把 example.com 上面的內容文字抓下來。\n",
    "\n",
    "內容文字即：\n",
    "\n",
    "This domain is for use in illustrative examples in documents. You may use this domain in literature without prior coordination or asking for permission."
   ]
  }
 ],
 "metadata": {
  "kernelspec": {
   "display_name": "Python 3",
   "language": "python",
   "name": "python3"
  },
  "language_info": {
   "name": ""
  }
 },
 "nbformat": 4,
 "nbformat_minor": 2
}
