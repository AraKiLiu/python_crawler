{
  "nbformat": 4,
  "nbformat_minor": 0,
  "metadata": {
    "anaconda-cloud": {},
    "celltoolbar": "Raw Cell Format",
    "kernelspec": {
      "display_name": "Python 3",
      "language": "python",
      "name": "python3"
    },
    "language_info": {
      "codemirror_mode": {
        "name": "ipython",
        "version": 3
      },
      "file_extension": ".py",
      "mimetype": "text/x-python",
      "name": "python",
      "nbconvert_exporter": "python",
      "pygments_lexer": "ipython3",
      "version": "3.7.1"
    },
    "livereveal": {
      "scroll": true
    },
    "nbpresent": {
      "slides": {},
      "themes": {
        "default": "56b38c57-4ffe-478a-9f92-8ca64a17c67c",
        "theme": {
          "56b38c57-4ffe-478a-9f92-8ca64a17c67c": {
            "id": "56b38c57-4ffe-478a-9f92-8ca64a17c67c",
            "palette": {
              "19cc588f-0593-49c9-9f4b-e4d7cc113b1c": {
                "id": "19cc588f-0593-49c9-9f4b-e4d7cc113b1c",
                "rgb": [
                  252,
                  252,
                  252
                ]
              },
              "31af15d2-7e15-44c5-ab5e-e04b16a89eff": {
                "id": "31af15d2-7e15-44c5-ab5e-e04b16a89eff",
                "rgb": [
                  68,
                  68,
                  68
                ]
              },
              "50f92c45-a630-455b-aec3-788680ec7410": {
                "id": "50f92c45-a630-455b-aec3-788680ec7410",
                "rgb": [
                  155,
                  177,
                  192
                ]
              },
              "c5cc3653-2ee1-402a-aba2-7caae1da4f6c": {
                "id": "c5cc3653-2ee1-402a-aba2-7caae1da4f6c",
                "rgb": [
                  43,
                  126,
                  184
                ]
              },
              "efa7f048-9acb-414c-8b04-a26811511a21": {
                "id": "efa7f048-9acb-414c-8b04-a26811511a21",
                "rgb": [
                  25.118061674008803,
                  73.60176211453744,
                  107.4819383259912
                ]
              }
            },
            "rules": {
              "blockquote": {
                "color": "50f92c45-a630-455b-aec3-788680ec7410"
              },
              "code": {
                "font-family": "Anonymous Pro"
              },
              "h1": {
                "color": "c5cc3653-2ee1-402a-aba2-7caae1da4f6c",
                "font-family": "Lato",
                "font-size": 8
              },
              "h2": {
                "color": "c5cc3653-2ee1-402a-aba2-7caae1da4f6c",
                "font-family": "Lato",
                "font-size": 6
              },
              "h3": {
                "color": "50f92c45-a630-455b-aec3-788680ec7410",
                "font-family": "Lato",
                "font-size": 5.5
              },
              "h4": {
                "color": "c5cc3653-2ee1-402a-aba2-7caae1da4f6c",
                "font-family": "Lato",
                "font-size": 5
              },
              "h5": {
                "font-family": "Lato"
              },
              "h6": {
                "font-family": "Lato"
              },
              "h7": {
                "font-family": "Lato"
              },
              "pre": {
                "font-family": "Anonymous Pro",
                "font-size": 4
              }
            },
            "text-base": {
              "font-family": "Merriweather",
              "font-size": 4
            }
          }
        }
      }
    },
    "colab": {
      "name": "Python 的迴圈.ipynb",
      "provenance": [],
      "collapsed_sections": [],
      "toc_visible": true
    }
  },
  "cells": [
    {
      "cell_type": "markdown",
      "metadata": {
        "id": "WekpELZ7MDtc",
        "colab_type": "text"
      },
      "source": [
        "# Python 迴圈"
      ]
    },
    {
      "cell_type": "markdown",
      "metadata": {
        "id": "Hdvxab5SMDte",
        "colab_type": "text"
      },
      "source": [
        "## 複習重點：\n",
        "\n",
        "* for loop\n",
        "* break 跟 continue\n",
        "* while loop"
      ]
    },
    {
      "cell_type": "markdown",
      "metadata": {
        "id": "0vMxBLB8MDtf",
        "colab_type": "text"
      },
      "source": [
        "---"
      ]
    },
    {
      "cell_type": "markdown",
      "metadata": {
        "id": "6Kc-49jzMDtg",
        "colab_type": "text"
      },
      "source": [
        "## for 迴圈\n",
        "\n",
        "### 語法：\n",
        "\n",
        "```python\n",
        "for 變數 in 資料結構:\n",
        "    欲執行之程式區塊\n",
        "```"
      ]
    },
    {
      "cell_type": "code",
      "metadata": {
        "id": "1l393A97MDth",
        "colab_type": "code",
        "outputId": "65b2dbe8-5f3c-4bf5-e590-b027e05d246f",
        "colab": {
          "base_uri": "https://localhost:8080/",
          "height": 104
        }
      },
      "source": [
        "# for 迴圈\n",
        "\n",
        "A = range(5)\n",
        "\n",
        "for i in A:\n",
        "    print(i)"
      ],
      "execution_count": 0,
      "outputs": [
        {
          "output_type": "stream",
          "text": [
            "0\n",
            "1\n",
            "2\n",
            "3\n",
            "4\n"
          ],
          "name": "stdout"
        }
      ]
    },
    {
      "cell_type": "markdown",
      "metadata": {
        "id": "u3aTb5AyQcMY",
        "colab_type": "text"
      },
      "source": [
        "## 關於 range"
      ]
    },
    {
      "cell_type": "code",
      "metadata": {
        "id": "v2eidomHMeLw",
        "colab_type": "code",
        "outputId": "30f96d90-0ccf-4138-d149-8c6f706fb20d",
        "colab": {
          "base_uri": "https://localhost:8080/",
          "height": 52
        }
      },
      "source": [
        "%%python2\n",
        "\n",
        "a = range(10)\n",
        "print(type(a))\n",
        "print(a)"
      ],
      "execution_count": 0,
      "outputs": [
        {
          "output_type": "stream",
          "text": [
            "<type 'list'>\n",
            "[0, 1, 2, 3, 4, 5, 6, 7, 8, 9]\n"
          ],
          "name": "stdout"
        }
      ]
    },
    {
      "cell_type": "code",
      "metadata": {
        "id": "sTKkNlaaMmh6",
        "colab_type": "code",
        "outputId": "a57f9be0-58e7-448a-c7d9-aa1be803b387",
        "colab": {
          "base_uri": "https://localhost:8080/",
          "height": 52
        }
      },
      "source": [
        "b = range(10)\n",
        "print(type(b))\n",
        "print(b)"
      ],
      "execution_count": 0,
      "outputs": [
        {
          "output_type": "stream",
          "text": [
            "<class 'range'>\n",
            "range(0, 10)\n"
          ],
          "name": "stdout"
        }
      ]
    },
    {
      "cell_type": "code",
      "metadata": {
        "id": "4vX-83KoMi9C",
        "colab_type": "code",
        "colab": {}
      },
      "source": [
        "range?"
      ],
      "execution_count": 0,
      "outputs": []
    },
    {
      "cell_type": "code",
      "metadata": {
        "id": "XoFI2haSRBPw",
        "colab_type": "code",
        "outputId": "c34ba5bc-42e7-4362-bc67-f92d108d748c",
        "colab": {
          "base_uri": "https://localhost:8080/",
          "height": 104
        }
      },
      "source": [
        "# for 迴圈\n",
        "A = range(1,10, 2)\n",
        "\n",
        "for i in A:    # enumerate: iterator\n",
        "    print(i)"
      ],
      "execution_count": 0,
      "outputs": [
        {
          "output_type": "stream",
          "text": [
            "1\n",
            "3\n",
            "5\n",
            "7\n",
            "9\n"
          ],
          "name": "stdout"
        }
      ]
    },
    {
      "cell_type": "code",
      "metadata": {
        "id": "sbvJxf89RMje",
        "colab_type": "code",
        "outputId": "e55c7881-fdbf-40a9-cd5e-5a560108e400",
        "colab": {
          "base_uri": "https://localhost:8080/",
          "height": 104
        }
      },
      "source": [
        "# for 迴圈\n",
        "A = range(1,10, 2)\n",
        "\n",
        "for i in enumerate(A):    # enumerate: iterator\n",
        "    print(i)"
      ],
      "execution_count": 0,
      "outputs": [
        {
          "output_type": "stream",
          "text": [
            "(0, 1)\n",
            "(1, 3)\n",
            "(2, 5)\n",
            "(3, 7)\n",
            "(4, 9)\n"
          ],
          "name": "stdout"
        }
      ]
    },
    {
      "cell_type": "code",
      "metadata": {
        "id": "aDzI2xE6MDto",
        "colab_type": "code",
        "outputId": "c66cdc29-3eb6-4c6a-cfc8-f56852ec2552",
        "colab": {
          "base_uri": "https://localhost:8080/",
          "height": 104
        }
      },
      "source": [
        "# for 迴圈\n",
        "A = range(1,10, 2)\n",
        "\n",
        "for i, item in enumerate(A):    # enumerate: iterator\n",
        "    print(i,\"==>\",item)"
      ],
      "execution_count": 0,
      "outputs": [
        {
          "output_type": "stream",
          "text": [
            "0 ==> 1\n",
            "1 ==> 3\n",
            "2 ==> 5\n",
            "3 ==> 7\n",
            "4 ==> 9\n"
          ],
          "name": "stdout"
        }
      ]
    },
    {
      "cell_type": "markdown",
      "metadata": {
        "id": "m03TYXIVMDtq",
        "colab_type": "text"
      },
      "source": [
        "## 【練習】\n",
        "\n",
        "使用 for 迴圈畫出一個金字塔！\n",
        "\n",
        "        *\n",
        "       ***\n",
        "      *****\n",
        "     *******\n",
        "    *********"
      ]
    },
    {
      "cell_type": "code",
      "metadata": {
        "id": "CARQUx71S9yZ",
        "colab_type": "code",
        "outputId": "7505191a-dbe8-4cfd-9ded-5ea23bd9c87f",
        "colab": {
          "base_uri": "https://localhost:8080/",
          "height": 34
        }
      },
      "source": [
        "'*' * 10"
      ],
      "execution_count": 0,
      "outputs": [
        {
          "output_type": "execute_result",
          "data": {
            "text/plain": [
              "'**********'"
            ]
          },
          "metadata": {
            "tags": []
          },
          "execution_count": 11
        }
      ]
    },
    {
      "cell_type": "code",
      "metadata": {
        "id": "OKUsme4vTDbo",
        "colab_type": "code",
        "outputId": "697ffebe-6111-4395-ba09-7fe10e6a1e77",
        "colab": {
          "base_uri": "https://localhost:8080/",
          "height": 104
        }
      },
      "source": [
        "for i in range(5):\n",
        "  print(' '*(5-i)+'*'*(2*i+1))"
      ],
      "execution_count": 0,
      "outputs": [
        {
          "output_type": "stream",
          "text": [
            "     *\n",
            "    ***\n",
            "   *****\n",
            "  *******\n",
            " *********\n"
          ],
          "name": "stdout"
        }
      ]
    },
    {
      "cell_type": "markdown",
      "metadata": {
        "id": "lf-PO6z9MDtr",
        "colab_type": "text"
      },
      "source": [
        "---"
      ]
    },
    {
      "cell_type": "markdown",
      "metadata": {
        "id": "ejynJZ1wMDts",
        "colab_type": "text"
      },
      "source": [
        "## break 跟 continue\n",
        "\n",
        "* break 用來跳出迴圈\n",
        "* continue 用來繼續執行迴圈的下一輪迴"
      ]
    },
    {
      "cell_type": "code",
      "metadata": {
        "id": "QIqKJ0OiMDtt",
        "colab_type": "code",
        "outputId": "ee4aefde-2de0-4dcd-d885-caaad9ff0c38",
        "colab": {
          "base_uri": "https://localhost:8080/",
          "height": 173
        }
      },
      "source": [
        "for i in range(1, 10):\n",
        "    print(i)"
      ],
      "execution_count": 0,
      "outputs": [
        {
          "output_type": "stream",
          "text": [
            "1\n",
            "2\n",
            "3\n",
            "4\n",
            "5\n",
            "6\n",
            "7\n",
            "8\n",
            "9\n"
          ],
          "name": "stdout"
        }
      ]
    },
    {
      "cell_type": "code",
      "metadata": {
        "id": "XlB2Il0KMDtv",
        "colab_type": "code",
        "outputId": "51c09186-18d6-4d38-c4e8-34585823ea59",
        "colab": {
          "base_uri": "https://localhost:8080/",
          "height": 86
        }
      },
      "source": [
        "for i in range(1, 10):\n",
        "    if i % 5 == 0:\n",
        "        break\n",
        "    print(i)"
      ],
      "execution_count": 0,
      "outputs": [
        {
          "output_type": "stream",
          "text": [
            "1\n",
            "2\n",
            "3\n",
            "4\n"
          ],
          "name": "stdout"
        }
      ]
    },
    {
      "cell_type": "code",
      "metadata": {
        "id": "UWYY6C-HMDtx",
        "colab_type": "code",
        "outputId": "73f9bd2d-71ea-4562-fcbc-501d47d67896",
        "colab": {
          "base_uri": "https://localhost:8080/",
          "height": 155
        }
      },
      "source": [
        "for i in range(1, 10):\n",
        "    if i % 5 == 0:\n",
        "        continue\n",
        "    print(i)"
      ],
      "execution_count": 0,
      "outputs": [
        {
          "output_type": "stream",
          "text": [
            "1\n",
            "2\n",
            "3\n",
            "4\n",
            "6\n",
            "7\n",
            "8\n",
            "9\n"
          ],
          "name": "stdout"
        }
      ]
    },
    {
      "cell_type": "markdown",
      "metadata": {
        "id": "1SGnEsKZMDtz",
        "colab_type": "text"
      },
      "source": [
        "---"
      ]
    },
    {
      "cell_type": "markdown",
      "metadata": {
        "id": "UmldxbBDMDt0",
        "colab_type": "text"
      },
      "source": [
        "## 巢狀迴圈"
      ]
    },
    {
      "cell_type": "code",
      "metadata": {
        "id": "broJ2hfWMDt1",
        "colab_type": "code",
        "outputId": "afb43e55-e794-43d8-996c-b491dbce17f8",
        "colab": {
          "base_uri": "https://localhost:8080/",
          "height": 449
        }
      },
      "source": [
        "for i in range(5):\n",
        "    for j in range(5):\n",
        "        print(\"i =\", i, \", j =\", j)"
      ],
      "execution_count": 0,
      "outputs": [
        {
          "output_type": "stream",
          "text": [
            "i = 0 , j = 0\n",
            "i = 0 , j = 1\n",
            "i = 0 , j = 2\n",
            "i = 0 , j = 3\n",
            "i = 0 , j = 4\n",
            "i = 1 , j = 0\n",
            "i = 1 , j = 1\n",
            "i = 1 , j = 2\n",
            "i = 1 , j = 3\n",
            "i = 1 , j = 4\n",
            "i = 2 , j = 0\n",
            "i = 2 , j = 1\n",
            "i = 2 , j = 2\n",
            "i = 2 , j = 3\n",
            "i = 2 , j = 4\n",
            "i = 3 , j = 0\n",
            "i = 3 , j = 1\n",
            "i = 3 , j = 2\n",
            "i = 3 , j = 3\n",
            "i = 3 , j = 4\n",
            "i = 4 , j = 0\n",
            "i = 4 , j = 1\n",
            "i = 4 , j = 2\n",
            "i = 4 , j = 3\n",
            "i = 4 , j = 4\n"
          ],
          "name": "stdout"
        }
      ]
    },
    {
      "cell_type": "markdown",
      "metadata": {
        "id": "d6J5v0w0MDt3",
        "colab_type": "text"
      },
      "source": [
        "## 【練習】\n",
        "\n",
        "請用巢狀迴圈，列出九九乘法表！"
      ]
    },
    {
      "cell_type": "markdown",
      "metadata": {
        "id": "aYy7SOO4MDt4",
        "colab_type": "text"
      },
      "source": [
        "---"
      ]
    },
    {
      "cell_type": "markdown",
      "metadata": {
        "id": "xInUl4rQMDt5",
        "colab_type": "text"
      },
      "source": [
        "## while 迴圈\n",
        "\n",
        "### 語法：\n",
        "\n",
        "```python\n",
        "while 條件式:\n",
        "    欲執行之程式區塊\n",
        "```"
      ]
    },
    {
      "cell_type": "code",
      "metadata": {
        "id": "ptR0pWJKMDt5",
        "colab_type": "code",
        "colab": {}
      },
      "source": [
        "# while 迴圈\n",
        "\n",
        "count = 0\n",
        "while (count < 10):\n",
        "    print(count)\n",
        "    count += 1"
      ],
      "execution_count": 0,
      "outputs": []
    },
    {
      "cell_type": "code",
      "metadata": {
        "id": "77MXJkjiMDt8",
        "colab_type": "code",
        "colab": {}
      },
      "source": [
        "# while 迴圈\n",
        "\n",
        "count = 0\n",
        "while (count < 10):\n",
        "    if count % 2 == 0:\n",
        "        count += 1\n",
        "        continue\n",
        "    print(count)\n",
        "    count += 1"
      ],
      "execution_count": 0,
      "outputs": []
    },
    {
      "cell_type": "code",
      "metadata": {
        "id": "d_lB7J8DPIy3",
        "colab_type": "code",
        "colab": {}
      },
      "source": [
        "# while 迴圈\n",
        "\n",
        "count = 0\n",
        "while (count < 10):\n",
        "    if count % 2 != 0:\n",
        "        print(count)\n",
        "    count += 1"
      ],
      "execution_count": 0,
      "outputs": []
    },
    {
      "cell_type": "code",
      "metadata": {
        "id": "jbLc5rAKMDt-",
        "colab_type": "code",
        "colab": {}
      },
      "source": [
        "# while 迴圈\n",
        "\n",
        "count = 0\n",
        "while (count < 10):\n",
        "    count += 1\n",
        "    if count % 2 == 0:\n",
        "        break\n",
        "    print(count)"
      ],
      "execution_count": 0,
      "outputs": []
    },
    {
      "cell_type": "code",
      "metadata": {
        "id": "vj8W95KUMDuA",
        "colab_type": "code",
        "colab": {}
      },
      "source": [
        "# while 迴圈\n",
        "\n",
        "count = 0\n",
        "while (count < 10):\n",
        "    if count % 3 == 0:\n",
        "        print(count)\n",
        "    count += 1"
      ],
      "execution_count": 0,
      "outputs": []
    },
    {
      "cell_type": "code",
      "metadata": {
        "id": "2yTrZezUMDuC",
        "colab_type": "code",
        "colab": {}
      },
      "source": [
        "count = 0\n",
        "while True:\n",
        "    if count > 10:\n",
        "        break\n",
        "    count += 1"
      ],
      "execution_count": 0,
      "outputs": []
    }
  ]
}